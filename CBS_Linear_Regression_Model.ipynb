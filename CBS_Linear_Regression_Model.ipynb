{
 "cells": [
  {
   "cell_type": "code",
   "execution_count": 1,
   "metadata": {},
   "outputs": [
    {
     "data": {
      "text/html": [
       "<div>\n",
       "<table border=\"1\" class=\"dataframe\">\n",
       "  <thead>\n",
       "    <tr style=\"text-align: right;\">\n",
       "      <th></th>\n",
       "      <th>cbs_index.cbs_index.price_index</th>\n",
       "      <th>cbs_index.cbs_index.year</th>\n",
       "      <th>year</th>\n",
       "      <th>index</th>\n",
       "    </tr>\n",
       "  </thead>\n",
       "  <tbody>\n",
       "    <tr>\n",
       "      <th>0</th>\n",
       "      <td>{'type': 'xs:decimal', 'value': -2.2}</td>\n",
       "      <td>{'type': 'xs:integer', 'value': 2010}</td>\n",
       "      <td>2010</td>\n",
       "      <td>-2.2</td>\n",
       "    </tr>\n",
       "    <tr>\n",
       "      <th>1</th>\n",
       "      <td>{'type': 'xs:decimal', 'value': 2.8}</td>\n",
       "      <td>{'type': 'xs:integer', 'value': 2015}</td>\n",
       "      <td>2015</td>\n",
       "      <td>2.8</td>\n",
       "    </tr>\n",
       "    <tr>\n",
       "      <th>2</th>\n",
       "      <td>{'type': 'xs:decimal', 'value': 5}</td>\n",
       "      <td>{'type': 'xs:integer', 'value': 2016}</td>\n",
       "      <td>2016</td>\n",
       "      <td>5.0</td>\n",
       "    </tr>\n",
       "    <tr>\n",
       "      <th>3</th>\n",
       "      <td>{'type': 'xs:decimal', 'value': 7.6}</td>\n",
       "      <td>{'type': 'xs:integer', 'value': 2017}</td>\n",
       "      <td>2017</td>\n",
       "      <td>7.6</td>\n",
       "    </tr>\n",
       "    <tr>\n",
       "      <th>4</th>\n",
       "      <td>{'type': 'xs:decimal', 'value': 9}</td>\n",
       "      <td>{'type': 'xs:integer', 'value': 2018}</td>\n",
       "      <td>2018</td>\n",
       "      <td>9.0</td>\n",
       "    </tr>\n",
       "  </tbody>\n",
       "</table>\n",
       "</div>"
      ],
      "text/plain": [
       "         cbs_index.cbs_index.price_index  \\\n",
       "0  {'type': 'xs:decimal', 'value': -2.2}   \n",
       "1   {'type': 'xs:decimal', 'value': 2.8}   \n",
       "2     {'type': 'xs:decimal', 'value': 5}   \n",
       "3   {'type': 'xs:decimal', 'value': 7.6}   \n",
       "4     {'type': 'xs:decimal', 'value': 9}   \n",
       "\n",
       "                cbs_index.cbs_index.year  year  index  \n",
       "0  {'type': 'xs:integer', 'value': 2010}  2010   -2.2  \n",
       "1  {'type': 'xs:integer', 'value': 2015}  2015    2.8  \n",
       "2  {'type': 'xs:integer', 'value': 2016}  2016    5.0  \n",
       "3  {'type': 'xs:integer', 'value': 2017}  2017    7.6  \n",
       "4  {'type': 'xs:integer', 'value': 2018}  2018    9.0  "
      ]
     },
     "execution_count": 1,
     "metadata": {},
     "output_type": "execute_result"
    }
   ],
   "source": [
    "# Get cleaned and trusted CBS house index data from Data Hub\n",
    "\n",
    "import requests\n",
    "from requests.auth import HTTPDigestAuth\n",
    "import json\n",
    "import time\n",
    "import pandas as pd\n",
    "\n",
    "def getCBSIndex():\n",
    "    try:\n",
    "        url = 'http://ai:8011/v1/rows'\n",
    "        header = {\"Accept\": \"application/json\"}\n",
    "        plan = 'plan=%7B%0A\"$optic\":%20%7B%0A\"ns\":%20\"op\",%20%0A\"fn\":%20\"operators\",%20%0A\"args\":%20%5B%0A%7B%0A\"ns\":%20\"op\",%20%0A\"fn\":%20\"from-sql\",%20%0A\"args\":%20%5B%0A\"select%20*%20from%20cbs_index%20where%20year%20>%202009order%20by%20year\",%20%0Anull%0A%5D%0A%7D%0A%5D%0A%7D%0A%7D'\n",
    "\n",
    "        response = (requests.get(url+\"?\"+plan, auth=HTTPDigestAuth('admin', 'admin'), headers=header).text)\n",
    "        response = json.loads(response)\n",
    "        time.sleep(0.5)\n",
    "        return response\n",
    "    except Exception as e:\n",
    "        raise e\n",
    "        \n",
    "def parse_year(x):\n",
    "    try:\n",
    "        return x[\"value\"]\n",
    "    except Exception:\n",
    "        x = 0\n",
    "        return x\n",
    "       \n",
    "def parse_index(x):\n",
    "    try:\n",
    "        return x[\"value\"]\n",
    "    except Exception:\n",
    "        x = 0\n",
    "        return x\n",
    "    \n",
    "data = getCBSIndex()\n",
    "df = pd.DataFrame(data[\"rows\"])\n",
    "df[\"year\"] = df[\"cbs_index.cbs_index.year\"].apply(parse_year)\n",
    "df[\"index\"] = df[\"cbs_index.cbs_index.price_index\"].apply(parse_index)\n",
    "df"
   ]
  },
  {
   "cell_type": "code",
   "execution_count": 14,
   "metadata": {},
   "outputs": [
    {
     "data": {
      "image/png": "[encoded data removed]",
      "text/plain": [
       "<matplotlib.figure.Figure at 0x7f31cfc8f7f0>"
      ]
     },
     "metadata": {},
     "output_type": "display_data"
    }
   ],
   "source": [
    "# Plot the CBS data in a chart\n",
    "\n",
    "import matplotlib.pyplot as plt\n",
    "plt.plot(df[\"year\"], df[\"index\"])\n",
    "plt.show()"
   ]
  },
  {
   "cell_type": "code",
   "execution_count": 20,
   "metadata": {},
   "outputs": [
    {
     "data": {
      "image/png": "[encoded data removed]",
      "text/plain": [
       "<matplotlib.figure.Figure at 0x7f31974064a8>"
      ]
     },
     "metadata": {},
     "output_type": "display_data"
    }
   ],
   "source": [
    "# Create a Linear Regression Model for the CBS data\n",
    "# Plot the regression in a chart\n",
    "\n",
    "from sklearn import datasets, linear_model\n",
    "import warnings\n",
    "warnings.filterwarnings(action=\"ignore\", module=\"sklearn\", message=\"^internal gelsd\")\n",
    "\n",
    "X=df['year'].values\n",
    "X=X.reshape(len(X),1)\n",
    "Y=df['index'].values\n",
    "Y=Y.reshape(len(X),1)\n",
    "\n",
    "model = linear_model.LinearRegression().fit(X,Y)\n",
    "plt.plot(df[\"year\"], df[\"index\"])\n",
    "plt.xticks(X, X, rotation='vertical')\n",
    "plt.plot(X, model.predict(X), color='red',linewidth=3)\n",
    "plt.show()"
   ]
  },
  {
   "cell_type": "code",
   "execution_count": 19,
   "metadata": {},
   "outputs": [
    {
     "ename": "ImportError",
     "evalue": "No module named 'skl2onnx'",
     "output_type": "error",
     "traceback": [
      "\u001b[0;31m---------------------------------------------------------------------------\u001b[0m",
      "\u001b[0;31mImportError\u001b[0m                               Traceback (most recent call last)",
      "\u001b[0;32m<ipython-input-19-f37cbba9b5c2>\u001b[0m in \u001b[0;36m<module>\u001b[0;34m()\u001b[0m\n\u001b[1;32m      1\u001b[0m \u001b[0;31m# Export to ONNX format\u001b[0m\u001b[0;34m\u001b[0m\u001b[0;34m\u001b[0m\u001b[0m\n\u001b[1;32m      2\u001b[0m \u001b[0;34m\u001b[0m\u001b[0m\n\u001b[0;32m----> 3\u001b[0;31m \u001b[0;32mfrom\u001b[0m \u001b[0mskl2onnx\u001b[0m \u001b[0;32mimport\u001b[0m \u001b[0mconvert_sklearn\u001b[0m\u001b[0;34m\u001b[0m\u001b[0m\n\u001b[0m\u001b[1;32m      4\u001b[0m \u001b[0;32mfrom\u001b[0m \u001b[0mskl2onnx\u001b[0m\u001b[0;34m.\u001b[0m\u001b[0mcommon\u001b[0m\u001b[0;34m.\u001b[0m\u001b[0mdata_types\u001b[0m \u001b[0;32mimport\u001b[0m \u001b[0mFloatTensorType\u001b[0m\u001b[0;34m\u001b[0m\u001b[0m\n\u001b[1;32m      5\u001b[0m \u001b[0;34m\u001b[0m\u001b[0m\n",
      "\u001b[0;31mImportError\u001b[0m: No module named 'skl2onnx'"
     ]
    }
   ],
   "source": [
    "# Export to ONNX format\n",
    "\n",
    "from skl2onnx import convert_sklearn\n",
    "from skl2onnx.common.data_types import FloatTensorType\n",
    "\n",
    "initial_type = [('float_input', FloatTensorType([1, 1]))]\n",
    "onx = convert_sklearn(model, initial_types=initial_type)\n",
    "\n",
    "with open(\"/mount/CBS_Linear_Regression.onnx\", \"wb\") as f:\n",
    "    f.write(onx.SerializeToString())"
   ]
  },
  {
   "cell_type": "code",
   "execution_count": null,
   "metadata": {},
   "outputs": [],
   "source": [
    "# Load the ONNX and print it out\n",
    "\n",
    "import onnx\n",
    "model = onnx.load('/tmp/CBS_Linear_Regression.onnx')\n",
    "print(model)"
   ]
  },
  {
   "cell_type": "code",
   "execution_count": null,
   "metadata": {},
   "outputs": [],
   "source": [
    "print (onx.SerializeToString())"
   ]
  },
  {
   "cell_type": "code",
   "execution_count": null,
   "metadata": {},
   "outputs": [],
   "source": [
    "# Store the model in MarkLogic\n",
    "\n",
    "import requests\n",
    "from requests.auth import HTTPDigestAuth\n",
    "\n",
    "try:\n",
    "    url = 'http://localhost:8011/v1/documents'\n",
    "    header = {\"Accept\": \"application/json\"}\n",
    "    params = 'uri=/tmp/CBS_Linear_Regression.onnx'\n",
    "    \n",
    "    response = (requests.put(url+\"?\"+params, auth=HTTPDigestAuth('admin', 'admin'), headers=header, data=onx.SerializeToString()))\n",
    "    print(response)\n",
    "except Exception as e:\n",
    "    raise e"
   ]
  },
  {
   "cell_type": "code",
   "execution_count": null,
   "metadata": {
    "collapsed": true
   },
   "outputs": [],
   "source": []
  }
 ],
 "metadata": {
  "kernelspec": {
   "display_name": "Python 3",
   "language": "python",
   "name": "python3"
  },
  "language_info": {
   "codemirror_mode": {
    "name": "ipython",
    "version": 3
   },
   "file_extension": ".py",
   "mimetype": "text/x-python",
   "name": "python",
   "nbconvert_exporter": "python",
   "pygments_lexer": "ipython3",
   "version": "3.5.2"
  }
 },
 "nbformat": 4,
 "nbformat_minor": 2
}
