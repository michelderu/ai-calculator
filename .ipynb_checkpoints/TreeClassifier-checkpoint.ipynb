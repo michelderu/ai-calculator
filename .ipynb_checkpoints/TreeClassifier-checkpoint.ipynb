{
 "cells": [
  {
   "cell_type": "code",
   "execution_count": 5,
   "metadata": {},
   "outputs": [
    {
     "name": "stderr",
     "output_type": "stream",
     "text": [
      "The maximum opset needed by this model is only 1.\n",
      "The maximum opset needed by this model is only 1.\n"
     ]
    }
   ],
   "source": [
    "from sklearn import tree\n",
    "from skl2onnx import convert_sklearn\n",
    "from skl2onnx.common.data_types import FloatTensorType\n",
    "\n",
    "# Training Data\n",
    "X = [[181, 80, 44], [177, 70, 43], [160, 60, 38], \n",
    "     [154, 54, 37], [166, 65, 40], [190, 90, 47], \n",
    "     [175, 64, 39], [177, 70, 40], [159, 55, 37], \n",
    "     [171, 75, 42], [181, 85, 43]]\n",
    "\n",
    "Y = ['male', 'male', 'female', 'female', \n",
    "  'male', 'male', 'female', 'female', \n",
    "  'female', 'male', 'male']\n",
    "\n",
    "# Train the model\n",
    "model = tree.DecisionTreeClassifier()\n",
    "model.fit(X,Y)\n",
    "\n",
    "# Export to ONNX\n",
    "initial_type = [('float_input', FloatTensorType([1, 1]))]\n",
    "onx = convert_sklearn(model, initial_types=initial_type)\n",
    "with open(\"/Users/mderu/aidata/gender_classifier.onnx\", \"wb\") as f:\n",
    "    f.write(onx.SerializeToString())"
   ]
  },
  {
   "cell_type": "code",
   "execution_count": 3,
   "metadata": {},
   "outputs": [
    {
     "name": "stdout",
     "output_type": "stream",
     "text": [
      "<Response [201]>\n"
     ]
    }
   ],
   "source": [
    "# Store the model in MarkLogic\n",
    "\n",
    "import requests\n",
    "from requests.auth import HTTPDigestAuth\n",
    "\n",
    "try:\n",
    "    url = 'http://localhost:8011/v1/documents'\n",
    "    header = {\"Accept\": \"application/json\"}\n",
    "    params = 'uri=/tmp/gender_classifier.onnx'\n",
    "    \n",
    "    response = (requests.put(url+\"?\"+params, auth=HTTPDigestAuth('admin', 'admin'), headers=header, data=onx.SerializeToString()))\n",
    "    print(response)\n",
    "except Exception as e:\n",
    "    raise e"
   ]
  },
  {
   "cell_type": "code",
   "execution_count": null,
   "metadata": {},
   "outputs": [],
   "source": []
  }
 ],
 "metadata": {
  "kernelspec": {
   "display_name": "Python 3",
   "language": "python",
   "name": "python3"
  },
  "language_info": {
   "codemirror_mode": {
    "name": "ipython",
    "version": 3
   },
   "file_extension": ".py",
   "mimetype": "text/x-python",
   "name": "python",
   "nbconvert_exporter": "python",
   "pygments_lexer": "ipython3",
   "version": "3.7.3"
  }
 },
 "nbformat": 4,
 "nbformat_minor": 2
}
