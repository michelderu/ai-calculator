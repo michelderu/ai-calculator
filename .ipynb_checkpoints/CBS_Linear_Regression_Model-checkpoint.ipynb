{
 "cells": [
  {
   "cell_type": "code",
   "execution_count": 1,
   "metadata": {},
   "outputs": [
    {
     "data": {
      "text/html": [
       "<div>\n",
       "<table border=\"1\" class=\"dataframe\">\n",
       "  <thead>\n",
       "    <tr style=\"text-align: right;\">\n",
       "      <th></th>\n",
       "      <th>cbs_index.cbs_index.price_index</th>\n",
       "      <th>cbs_index.cbs_index.year</th>\n",
       "      <th>year</th>\n",
       "      <th>index</th>\n",
       "    </tr>\n",
       "  </thead>\n",
       "  <tbody>\n",
       "    <tr>\n",
       "      <th>0</th>\n",
       "      <td>{'value': -2.2, 'type': 'xs:decimal'}</td>\n",
       "      <td>{'value': 2010, 'type': 'xs:integer'}</td>\n",
       "      <td>2010</td>\n",
       "      <td>-2.2</td>\n",
       "    </tr>\n",
       "    <tr>\n",
       "      <th>1</th>\n",
       "      <td>{'value': 2.8, 'type': 'xs:decimal'}</td>\n",
       "      <td>{'value': 2015, 'type': 'xs:integer'}</td>\n",
       "      <td>2015</td>\n",
       "      <td>2.8</td>\n",
       "    </tr>\n",
       "    <tr>\n",
       "      <th>2</th>\n",
       "      <td>{'value': 5, 'type': 'xs:decimal'}</td>\n",
       "      <td>{'value': 2016, 'type': 'xs:integer'}</td>\n",
       "      <td>2016</td>\n",
       "      <td>5.0</td>\n",
       "    </tr>\n",
       "    <tr>\n",
       "      <th>3</th>\n",
       "      <td>{'value': 7.6, 'type': 'xs:decimal'}</td>\n",
       "      <td>{'value': 2017, 'type': 'xs:integer'}</td>\n",
       "      <td>2017</td>\n",
       "      <td>7.6</td>\n",
       "    </tr>\n",
       "    <tr>\n",
       "      <th>4</th>\n",
       "      <td>{'value': 9, 'type': 'xs:decimal'}</td>\n",
       "      <td>{'value': 2018, 'type': 'xs:integer'}</td>\n",
       "      <td>2018</td>\n",
       "      <td>9.0</td>\n",
       "    </tr>\n",
       "  </tbody>\n",
       "</table>\n",
       "</div>"
      ],
      "text/plain": [
       "         cbs_index.cbs_index.price_index  \\\n",
       "0  {'value': -2.2, 'type': 'xs:decimal'}   \n",
       "1   {'value': 2.8, 'type': 'xs:decimal'}   \n",
       "2     {'value': 5, 'type': 'xs:decimal'}   \n",
       "3   {'value': 7.6, 'type': 'xs:decimal'}   \n",
       "4     {'value': 9, 'type': 'xs:decimal'}   \n",
       "\n",
       "                cbs_index.cbs_index.year  year  index  \n",
       "0  {'value': 2010, 'type': 'xs:integer'}  2010   -2.2  \n",
       "1  {'value': 2015, 'type': 'xs:integer'}  2015    2.8  \n",
       "2  {'value': 2016, 'type': 'xs:integer'}  2016    5.0  \n",
       "3  {'value': 2017, 'type': 'xs:integer'}  2017    7.6  \n",
       "4  {'value': 2018, 'type': 'xs:integer'}  2018    9.0  "
      ]
     },
     "execution_count": 1,
     "metadata": {},
     "output_type": "execute_result"
    }
   ],
   "source": [
    "# Get cleaned and trusted CBS house index data from Data Hub\n",
    "\n",
    "import requests\n",
    "from requests.auth import HTTPDigestAuth\n",
    "import json\n",
    "import time\n",
    "import pandas as pd\n",
    "\n",
    "def getCBSIndex():\n",
    "    try:\n",
    "        url = 'http://ai:8011/v1/rows'\n",
    "        header = {\"Accept\": \"application/json\"}\n",
    "        plan = 'plan=%7B%0A\"$optic\":%20%7B%0A\"ns\":%20\"op\",%20%0A\"fn\":%20\"operators\",%20%0A\"args\":%20%5B%0A%7B%0A\"ns\":%20\"op\",%20%0A\"fn\":%20\"from-sql\",%20%0A\"args\":%20%5B%0A\"select%20*%20from%20cbs_index%20where%20year%20>%202009order%20by%20year\",%20%0Anull%0A%5D%0A%7D%0A%5D%0A%7D%0A%7D'\n",
    "\n",
    "        response = (requests.get(url+\"?\"+plan, auth=HTTPDigestAuth('admin', 'admin'), headers=header).text)\n",
    "        response = json.loads(response)\n",
    "        time.sleep(0.5)\n",
    "        return response\n",
    "    except Exception as e:\n",
    "        raise e\n",
    "        \n",
    "def parse_year(x):\n",
    "    try:\n",
    "        return x[\"value\"]\n",
    "    except Exception:\n",
    "        x = 0\n",
    "        return x\n",
    "       \n",
    "def parse_index(x):\n",
    "    try:\n",
    "        return x[\"value\"]\n",
    "    except Exception:\n",
    "        x = 0\n",
    "        return x\n",
    "    \n",
    "data = getCBSIndex()\n",
    "df = pd.DataFrame(data[\"rows\"])\n",
    "df[\"year\"] = df[\"cbs_index.cbs_index.year\"].apply(parse_year)\n",
    "df[\"index\"] = df[\"cbs_index.cbs_index.price_index\"].apply(parse_index)\n",
    "df"
   ]
  },
  {
   "cell_type": "code",
   "execution_count": 2,
   "metadata": {},
   "outputs": [
    {
     "data": {
      "text/plain": [
       "[<matplotlib.lines.Line2D at 0x1151589b0>]"
      ]
     },
     "execution_count": 2,
     "metadata": {},
     "output_type": "execute_result"
    }
   ],
   "source": [
    "# Plot the CBS data in a chart\n",
    "\n",
    "import matplotlib.pyplot as plt\n",
    "plt.plot(df[\"year\"], df[\"index\"])"
   ]
  },
  {
   "cell_type": "code",
   "execution_count": 3,
   "metadata": {},
   "outputs": [
    {
     "data": {
      "text/plain": [
       "[<matplotlib.lines.Line2D at 0x1193d9748>]"
      ]
     },
     "execution_count": 3,
     "metadata": {},
     "output_type": "execute_result"
    },
    {
     "data": {
      "image/png": "[encoded data removed]",
      "text/plain": [
       "<Figure size 432x288 with 1 Axes>"
      ]
     },
     "metadata": {
      "needs_background": "light"
     },
     "output_type": "display_data"
    }
   ],
   "source": [
    "# Create a Linear Regression Model for the CBS data\n",
    "# Plot the regression in a chart\n",
    "\n",
    "from sklearn import datasets, linear_model\n",
    "import warnings\n",
    "warnings.filterwarnings(action=\"ignore\", module=\"sklearn\", message=\"^internal gelsd\")\n",
    "\n",
    "X=df['year'].values\n",
    "X=X.reshape(len(X),1)\n",
    "Y=df['index'].values\n",
    "Y=Y.reshape(len(X),1)\n",
    "\n",
    "model = linear_model.LinearRegression().fit(X,Y)\n",
    "plt.plot(df[\"year\"], df[\"index\"])\n",
    "plt.plot(X, model.predict(X), color='red',linewidth=3)"
   ]
  },
  {
   "cell_type": "code",
   "execution_count": 4,
   "metadata": {},
   "outputs": [
    {
     "name": "stderr",
     "output_type": "stream",
     "text": [
      "The maximum opset needed by this model is only 1.\n"
     ]
    }
   ],
   "source": [
    "# Export to ONNX format\n",
    "\n",
    "from skl2onnx import convert_sklearn\n",
    "from skl2onnx.common.data_types import FloatTensorType\n",
    "\n",
    "initial_type = [('float_input', FloatTensorType([1, 1]))]\n",
    "onx = convert_sklearn(model, initial_types=initial_type)\n",
    "\n",
    "with open(\"/tmp/CBS_Linear_Regression.onnx\", \"wb\") as f:\n",
    "    f.write(onx.SerializeToString())"
   ]
  },
  {
   "cell_type": "code",
   "execution_count": 5,
   "metadata": {},
   "outputs": [
    {
     "name": "stdout",
     "output_type": "stream",
     "text": [
      "ir_version: 5\n",
      "producer_name: \"skl2onnx\"\n",
      "producer_version: \"1.5.1\"\n",
      "domain: \"ai.onnx\"\n",
      "model_version: 0\n",
      "doc_string: \"\"\n",
      "graph {\n",
      "  node {\n",
      "    input: \"float_input\"\n",
      "    output: \"variable\"\n",
      "    name: \"LinearRegressor\"\n",
      "    op_type: \"LinearRegressor\"\n",
      "    attribute {\n",
      "      name: \"coefficients\"\n",
      "      floats: 1.38556706905365\n",
      "      type: FLOATS\n",
      "    }\n",
      "    attribute {\n",
      "      name: \"intercepts\"\n",
      "      floats: -2787.754638671875\n",
      "      type: FLOATS\n",
      "    }\n",
      "    attribute {\n",
      "      name: \"targets\"\n",
      "      i: 1\n",
      "      type: INT\n",
      "    }\n",
      "    domain: \"ai.onnx.ml\"\n",
      "  }\n",
      "  name: \"2544194fb32740d688d8422cd6c19d9a\"\n",
      "  input {\n",
      "    name: \"float_input\"\n",
      "    type {\n",
      "      tensor_type {\n",
      "        elem_type: 1\n",
      "        shape {\n",
      "          dim {\n",
      "            dim_value: 1\n",
      "          }\n",
      "          dim {\n",
      "            dim_value: 1\n",
      "          }\n",
      "        }\n",
      "      }\n",
      "    }\n",
      "  }\n",
      "  output {\n",
      "    name: \"variable\"\n",
      "    type {\n",
      "      tensor_type {\n",
      "        elem_type: 1\n",
      "        shape {\n",
      "          dim {\n",
      "            dim_value: 1\n",
      "          }\n",
      "          dim {\n",
      "            dim_value: 1\n",
      "          }\n",
      "        }\n",
      "      }\n",
      "    }\n",
      "  }\n",
      "}\n",
      "opset_import {\n",
      "  domain: \"ai.onnx.ml\"\n",
      "  version: 1\n",
      "}\n",
      "\n"
     ]
    }
   ],
   "source": [
    "# Load the ONNX and print it out\n",
    "\n",
    "import onnx\n",
    "model = onnx.load('/tmp/CBS_Linear_Regression.onnx')\n",
    "print(model)"
   ]
  },
  {
   "cell_type": "code",
   "execution_count": 7,
   "metadata": {},
   "outputs": [
    {
     "name": "stdout",
     "output_type": "stream",
     "text": [
      "b'\\x08\\x05\\x12\\x08skl2onnx\\x1a\\x051.5.1\"\\x07ai.onnx(\\x002\\x00:\\xe3\\x01\\n\\x83\\x01\\n\\x0bfloat_input\\x12\\x08variable\\x1a\\x0fLinearRegressor\"\\x0fLinearRegressor*\\x16\\n\\x0ccoefficients=CZ\\xb1?\\xa0\\x01\\x06*\\x14\\n\\nintercepts=\\x13<.\\xc5\\xa0\\x01\\x06*\\x0e\\n\\x07targets\\x18\\x01\\xa0\\x01\\x02:\\nai.onnx.ml\\x12 2544194fb32740d688d8422cd6c19d9aZ\\x1d\\n\\x0bfloat_input\\x12\\x0e\\n\\x0c\\x08\\x01\\x12\\x08\\n\\x02\\x08\\x01\\n\\x02\\x08\\x01b\\x1a\\n\\x08variable\\x12\\x0e\\n\\x0c\\x08\\x01\\x12\\x08\\n\\x02\\x08\\x01\\n\\x02\\x08\\x01B\\x0e\\n\\nai.onnx.ml\\x10\\x01'\n"
     ]
    }
   ],
   "source": [
    "print (onx.SerializeToString())"
   ]
  },
  {
   "cell_type": "code",
   "execution_count": 8,
   "metadata": {},
   "outputs": [
    {
     "name": "stdout",
     "output_type": "stream",
     "text": [
      "<Response [204]>\n"
     ]
    }
   ],
   "source": [
    "# Store the model in MarkLogic\n",
    "\n",
    "import requests\n",
    "from requests.auth import HTTPDigestAuth\n",
    "\n",
    "try:\n",
    "    url = 'http://localhost:8011/v1/documents'\n",
    "    header = {\"Accept\": \"application/json\"}\n",
    "    params = 'uri=/tmp/CBS_Linear_Regression.onnx'\n",
    "    \n",
    "    response = (requests.put(url+\"?\"+params, auth=HTTPDigestAuth('admin', 'admin'), headers=header, data=onx.SerializeToString()))\n",
    "    print(response)\n",
    "except Exception as e:\n",
    "    raise e"
   ]
  },
  {
   "cell_type": "code",
   "execution_count": null,
   "metadata": {
    "collapsed": true
   },
   "outputs": [],
   "source": []
  }
 ],
 "metadata": {
  "kernelspec": {
   "display_name": "Python 3",
   "language": "python",
   "name": "python3"
  },
  "language_info": {
   "codemirror_mode": {
    "name": "ipython",
    "version": 3
   },
   "file_extension": ".py",
   "mimetype": "text/x-python",
   "name": "python",
   "nbconvert_exporter": "python",
   "pygments_lexer": "ipython3",
   "version": "3.5.2"
  }
 },
 "nbformat": 4,
 "nbformat_minor": 2
}
